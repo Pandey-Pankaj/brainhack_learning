{
 "cells": [
  {
   "cell_type": "markdown",
   "metadata": {},
   "source": [
    "#  Learning hacks in Python - easy to interpret \n",
    "    \n",
    "  #### Data Types\n",
    "  ##### Symbols\n",
    "  ##### Reserved keywords\n",
    "\n",
    "\n"
   ]
  },
  {
   "cell_type": "markdown",
   "metadata": {},
   "source": [
    "### Data Types"
   ]
  },
  {
   "cell_type": "markdown",
   "metadata": {},
   "source": [
    " List - [a,b]\n",
    " \n",
    " Dict - {a:a1,b:b1}\n",
    " \n",
    " Tuple -  ()\n",
    " Function ()\n",
    " \n",
    " Nipype\n",
    "    \n",
    " [(a,b),(c,d)]\n",
    " \n",
    " Workflow [(a,b,[(a1,b1),(a2,b2)])\n",
    " \n",
    " a, b represents node\n",
    " a1,a2,b1,b2 represents input variables\n",
    " "
   ]
  },
  {
   "cell_type": "code",
   "execution_count": 11,
   "metadata": {
    "collapsed": true
   },
   "outputs": [],
   "source": [
    "a = ['red', 'blue', 'green'] \n",
    "a = {'red': 'rouge', 'blue': 'bleu', 'green': 'vert'}\n",
    "a = ('red','blue')"
   ]
  },
  {
   "cell_type": "markdown",
   "metadata": {},
   "source": [
    "### Symbols"
   ]
  },
  {
   "cell_type": "markdown",
   "metadata": {
    "collapsed": true
   },
   "source": [
    "<b>[]</b> - square brackets\n",
    "\n",
    "<b>{}</b> - curly braces\n",
    "\n",
    "() - parantheses\n",
    "\n",
    ": - colon\n",
    ", - comma\n",
    "\n",
    "'a' - Single quote - Single quotes for anything that behaves like an identifier\n",
    "\n",
    "\"a\" - Double quote - Double quotes for text\n",
    "\"\"\" - docstrings  - Tripled double quotes for docstrings\n",
    "\n",
    ". - dot"
   ]
  },
  {
   "cell_type": "code",
   "execution_count": 6,
   "metadata": {},
   "outputs": [
    {
     "data": {
      "text/plain": [
       "'This is the commenting lines in python'"
      ]
     },
     "execution_count": 6,
     "metadata": {},
     "output_type": "execute_result"
    }
   ],
   "source": [
    "LIGHT_MESSAGES = {\n",
    "    'English': \"There are %(number_of_lights)s lights.\",\n",
    "    'Pirate':  \"Arr! Thar be %(number_of_lights)s lights.\"\n",
    "}\n",
    "\n",
    "\"\"\"This is the commenting lines in python\"\"\"\n"
   ]
  },
  {
   "cell_type": "markdown",
   "metadata": {},
   "source": [
    "### Reserved Keywords"
   ]
  },
  {
   "cell_type": "markdown",
   "metadata": {},
   "source": [
    "<b>from</b> - Main folder of library \n",
    "\n",
    "<b>import</b> - import is used to load libraries\n",
    "    \n"
   ]
  },
  {
   "cell_type": "code",
   "execution_count": 14,
   "metadata": {},
   "outputs": [],
   "source": [
    "from nipype import pipeline as pe"
   ]
  },
  {
   "cell_type": "code",
   "execution_count": null,
   "metadata": {
    "collapsed": true
   },
   "outputs": [],
   "source": []
  }
 ],
 "metadata": {
  "kernelspec": {
   "display_name": "Python 3",
   "language": "python",
   "name": "python3"
  },
  "language_info": {
   "codemirror_mode": {
    "name": "ipython",
    "version": 3
   },
   "file_extension": ".py",
   "mimetype": "text/x-python",
   "name": "python",
   "nbconvert_exporter": "python",
   "pygments_lexer": "ipython3",
   "version": "3.6.2"
  }
 },
 "nbformat": 4,
 "nbformat_minor": 2
}
